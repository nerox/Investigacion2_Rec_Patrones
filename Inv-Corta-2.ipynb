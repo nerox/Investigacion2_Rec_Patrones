{
 "cells": [
  {
   "cell_type": "markdown",
   "metadata": {},
   "source": [
    "## Analisis a partir de multiples metodos supervisados:\n",
    "\n",
    "Para esta investigación comenzaremos analizando un set de datos de complejidad interesante, ya que este posee multiples valores de salida y tambien muchas columnas de datos. Nos basaremos en el siguiente conjunto de datos: https://www.kaggle.com/bulentesen/cardiac-arrhythmia-database, https://archive.ics.uci.edu/ml/datasets/arrhythmia. El cual contiene información referente sobre diferentes tipos de arrythmias cardiacas. \n",
    "\n",
    "Las arrythmias son un tipo de condición que se presenta en el corazon como una anomalía en el pulso. Existe varios tipos deiferentes de arrythmias, para clasificarlas se deben analizar los electro cardiogramas y entender diferentes variables tales como los es el qrs. \n",
    "\n",
    "El dataset utilizado clasifica los diferentes diagnósticos de arrythmias de a siguiente manera:\n",
    "<table> \n",
    "  <tr>\n",
    "    <th>Class code </th>\n",
    "    <th>Class</th>\n",
    "  </tr>\n",
    "  <tr>\n",
    "    <td>01</td>\n",
    "    <td>Normal</td>\n",
    "  </tr>\n",
    "  <tr>\n",
    "    <td>02</td>\n",
    "    <td>Ischemic changes (Coronary Artery Disease)</td>\n",
    "  </tr>\n",
    "  <tr>\n",
    "    <td>03</td>\n",
    "    <td> Old Anterior Myocardial Infarction</td>\n",
    "  </tr>\n",
    "  <tr>\n",
    "    <td>04</td>\n",
    "    <td>Old Inferior Myocardial Infarction</td>\n",
    "  </tr>\n",
    "  <tr>\n",
    "    <td>05</td>\n",
    "    <td>Sinus tachycardy</td>\n",
    "  </tr>\n",
    "  <tr>\n",
    "    <td>06</td>\n",
    "    <td>Sinus bradycardy</td>\n",
    "  </tr>\n",
    "  <tr>\n",
    "    <td>07</td>\n",
    "    <td>Ventricular Premature Contraction (PVC)</td>\n",
    "  </tr>\n",
    "  <tr>\n",
    "    <td>08</td>\n",
    "    <td>Supraventricular Premature Contraction</td>\n",
    "  </tr>\n",
    "  <tr>\n",
    "    <td>09</td>\n",
    "    <td>Left bundle branch block</td>\n",
    "  </tr>\n",
    "  <tr>\n",
    "    <td>10</td>\n",
    "    <td>Right bundle branch block</td>\n",
    "  </tr>\n",
    "  <tr>\n",
    "    <td>11</td>\n",
    "    <td>1. degree AtrioVentricular block</td>\n",
    "  </tr>\n",
    "  <tr>\n",
    "    <td>12</td>\n",
    "    <td>2. degree AV block</td>\n",
    "  </tr>\n",
    "  <tr>\n",
    "    <td>13</td>\n",
    "    <td>3. degree AV block</td>\n",
    "  </tr>\n",
    "  <tr>\n",
    "    <td>14</td>\n",
    "    <td> Left ventricule hypertrophy</td>\n",
    "  </tr>\n",
    "  <tr>\n",
    "    <td>15</td>\n",
    "    <td>Atrial Fibrillation or Flutter</td>\n",
    "  </tr>\n",
    "  <tr>\n",
    "    <td>16</td>\n",
    "    <td>Others</td>\n",
    "  </tr>\n",
    "</table> \n",
    "\n",
    "Algunas limitaciones encontradas con este dataset, fue la falta de documentacion con respecto a algunas columnas. Sin embargo, el dataset me pareció interesante y un buen reto por la cantidad de variables. Por otro lado la canitdad de salidas vs la cantidad de datos obtenidos pueden ser una limitación y puede generar resultados bajos de accuracy en los métodos que se vayan a utilizar. "
   ]
  },
  {
   "cell_type": "code",
   "execution_count": 1,
   "metadata": {},
   "outputs": [],
   "source": [
    "import numpy as np\n",
    "import pandas as pd"
   ]
  },
  {
   "cell_type": "code",
   "execution_count": 2,
   "metadata": {},
   "outputs": [],
   "source": [
    "data = pd.read_csv('arrythmia.csv')"
   ]
  },
  {
   "cell_type": "code",
   "execution_count": 3,
   "metadata": {},
   "outputs": [
    {
     "data": {
      "text/html": [
       "<div>\n",
       "<style scoped>\n",
       "    .dataframe tbody tr th:only-of-type {\n",
       "        vertical-align: middle;\n",
       "    }\n",
       "\n",
       "    .dataframe tbody tr th {\n",
       "        vertical-align: top;\n",
       "    }\n",
       "\n",
       "    .dataframe thead th {\n",
       "        text-align: right;\n",
       "    }\n",
       "</style>\n",
       "<table border=\"1\" class=\"dataframe\">\n",
       "  <thead>\n",
       "    <tr style=\"text-align: right;\">\n",
       "      <th></th>\n",
       "      <th>age</th>\n",
       "      <th>sex</th>\n",
       "      <th>height</th>\n",
       "      <th>weight</th>\n",
       "      <th>qrs_duration</th>\n",
       "      <th>p-r_interval</th>\n",
       "      <th>q-t_interval</th>\n",
       "      <th>t_interval</th>\n",
       "      <th>p_interval</th>\n",
       "      <th>qrs</th>\n",
       "      <th>...</th>\n",
       "      <th>KY</th>\n",
       "      <th>KZ</th>\n",
       "      <th>LA</th>\n",
       "      <th>LB</th>\n",
       "      <th>LC</th>\n",
       "      <th>LD</th>\n",
       "      <th>LE</th>\n",
       "      <th>LF</th>\n",
       "      <th>LG</th>\n",
       "      <th>diagnosis</th>\n",
       "    </tr>\n",
       "  </thead>\n",
       "  <tbody>\n",
       "    <tr>\n",
       "      <th>0</th>\n",
       "      <td>75</td>\n",
       "      <td>0</td>\n",
       "      <td>190</td>\n",
       "      <td>80</td>\n",
       "      <td>91</td>\n",
       "      <td>193</td>\n",
       "      <td>371</td>\n",
       "      <td>174</td>\n",
       "      <td>121</td>\n",
       "      <td>-16</td>\n",
       "      <td>...</td>\n",
       "      <td>0.0</td>\n",
       "      <td>9.0</td>\n",
       "      <td>-0.9</td>\n",
       "      <td>0.0</td>\n",
       "      <td>0</td>\n",
       "      <td>0.9</td>\n",
       "      <td>2.9</td>\n",
       "      <td>23.3</td>\n",
       "      <td>49.4</td>\n",
       "      <td>8.0</td>\n",
       "    </tr>\n",
       "    <tr>\n",
       "      <th>1</th>\n",
       "      <td>56</td>\n",
       "      <td>1</td>\n",
       "      <td>165</td>\n",
       "      <td>64</td>\n",
       "      <td>81</td>\n",
       "      <td>174</td>\n",
       "      <td>401</td>\n",
       "      <td>149</td>\n",
       "      <td>39</td>\n",
       "      <td>25</td>\n",
       "      <td>...</td>\n",
       "      <td>0.0</td>\n",
       "      <td>8.5</td>\n",
       "      <td>0.0</td>\n",
       "      <td>0.0</td>\n",
       "      <td>0</td>\n",
       "      <td>0.2</td>\n",
       "      <td>2.1</td>\n",
       "      <td>20.4</td>\n",
       "      <td>38.8</td>\n",
       "      <td>6.0</td>\n",
       "    </tr>\n",
       "    <tr>\n",
       "      <th>2</th>\n",
       "      <td>54</td>\n",
       "      <td>0</td>\n",
       "      <td>172</td>\n",
       "      <td>95</td>\n",
       "      <td>138</td>\n",
       "      <td>163</td>\n",
       "      <td>386</td>\n",
       "      <td>185</td>\n",
       "      <td>102</td>\n",
       "      <td>96</td>\n",
       "      <td>...</td>\n",
       "      <td>0.0</td>\n",
       "      <td>9.5</td>\n",
       "      <td>-2.4</td>\n",
       "      <td>0.0</td>\n",
       "      <td>0</td>\n",
       "      <td>0.3</td>\n",
       "      <td>3.4</td>\n",
       "      <td>12.3</td>\n",
       "      <td>49.0</td>\n",
       "      <td>10.0</td>\n",
       "    </tr>\n",
       "    <tr>\n",
       "      <th>3</th>\n",
       "      <td>55</td>\n",
       "      <td>0</td>\n",
       "      <td>175</td>\n",
       "      <td>94</td>\n",
       "      <td>100</td>\n",
       "      <td>202</td>\n",
       "      <td>380</td>\n",
       "      <td>179</td>\n",
       "      <td>143</td>\n",
       "      <td>28</td>\n",
       "      <td>...</td>\n",
       "      <td>0.0</td>\n",
       "      <td>12.2</td>\n",
       "      <td>-2.2</td>\n",
       "      <td>0.0</td>\n",
       "      <td>0</td>\n",
       "      <td>0.4</td>\n",
       "      <td>2.6</td>\n",
       "      <td>34.6</td>\n",
       "      <td>61.6</td>\n",
       "      <td>1.0</td>\n",
       "    </tr>\n",
       "    <tr>\n",
       "      <th>4</th>\n",
       "      <td>75</td>\n",
       "      <td>0</td>\n",
       "      <td>190</td>\n",
       "      <td>80</td>\n",
       "      <td>88</td>\n",
       "      <td>181</td>\n",
       "      <td>360</td>\n",
       "      <td>177</td>\n",
       "      <td>103</td>\n",
       "      <td>-16</td>\n",
       "      <td>...</td>\n",
       "      <td>0.0</td>\n",
       "      <td>13.1</td>\n",
       "      <td>-3.6</td>\n",
       "      <td>0.0</td>\n",
       "      <td>0</td>\n",
       "      <td>-0.1</td>\n",
       "      <td>3.9</td>\n",
       "      <td>25.4</td>\n",
       "      <td>62.8</td>\n",
       "      <td>7.0</td>\n",
       "    </tr>\n",
       "  </tbody>\n",
       "</table>\n",
       "<p>5 rows × 280 columns</p>\n",
       "</div>"
      ],
      "text/plain": [
       "   age  sex  height  weight  qrs_duration  p-r_interval  q-t_interval  \\\n",
       "0   75    0     190      80            91           193           371   \n",
       "1   56    1     165      64            81           174           401   \n",
       "2   54    0     172      95           138           163           386   \n",
       "3   55    0     175      94           100           202           380   \n",
       "4   75    0     190      80            88           181           360   \n",
       "\n",
       "   t_interval  p_interval  qrs  ...   KY    KZ   LA   LB  LC   LD   LE    LF  \\\n",
       "0         174         121  -16  ...  0.0   9.0 -0.9  0.0   0  0.9  2.9  23.3   \n",
       "1         149          39   25  ...  0.0   8.5  0.0  0.0   0  0.2  2.1  20.4   \n",
       "2         185         102   96  ...  0.0   9.5 -2.4  0.0   0  0.3  3.4  12.3   \n",
       "3         179         143   28  ...  0.0  12.2 -2.2  0.0   0  0.4  2.6  34.6   \n",
       "4         177         103  -16  ...  0.0  13.1 -3.6  0.0   0 -0.1  3.9  25.4   \n",
       "\n",
       "     LG  diagnosis  \n",
       "0  49.4        8.0  \n",
       "1  38.8        6.0  \n",
       "2  49.0       10.0  \n",
       "3  61.6        1.0  \n",
       "4  62.8        7.0  \n",
       "\n",
       "[5 rows x 280 columns]"
      ]
     },
     "execution_count": 3,
     "metadata": {},
     "output_type": "execute_result"
    }
   ],
   "source": [
    "data.head()"
   ]
  },
  {
   "cell_type": "code",
   "execution_count": 4,
   "metadata": {},
   "outputs": [
    {
     "data": {
      "text/plain": [
       "(452, 280)"
      ]
     },
     "execution_count": 4,
     "metadata": {},
     "output_type": "execute_result"
    }
   ],
   "source": [
    "data.shape"
   ]
  },
  {
   "cell_type": "code",
   "execution_count": 5,
   "metadata": {},
   "outputs": [
    {
     "data": {
      "text/plain": [
       "age               75\n",
       "sex                0\n",
       "height           190\n",
       "weight            80\n",
       "qrs_duration      91\n",
       "p-r_interval     193\n",
       "q-t_interval     371\n",
       "t_interval       174\n",
       "p_interval       121\n",
       "qrs              -16\n",
       "T                 13\n",
       "P                 64\n",
       "QRST              -2\n",
       "J                   \n",
       "heart_rate        63\n",
       "q_wave             0\n",
       "r_wave            52\n",
       "s_wave            44\n",
       "R'_wave            0\n",
       "S'_wave            0\n",
       "AA                32\n",
       "AB                 0\n",
       "AC                 0\n",
       "AD                 0\n",
       "AE                 0\n",
       "AF                 0\n",
       "AG                 0\n",
       "AH                 0\n",
       "AI                44\n",
       "AJ                20\n",
       "                ... \n",
       "KB                 0\n",
       "KC              15.2\n",
       "KD              -8.4\n",
       "KE                 0\n",
       "KF                 0\n",
       "KG               0.9\n",
       "KH               5.1\n",
       "KI              17.7\n",
       "KJ              70.7\n",
       "KK              -0.4\n",
       "KL                 0\n",
       "KM              13.5\n",
       "KN                -4\n",
       "KO                 0\n",
       "KP                 0\n",
       "KR               0.9\n",
       "KS               3.9\n",
       "KT              25.5\n",
       "KU              62.9\n",
       "KV              -0.3\n",
       "KY                 0\n",
       "KZ                 9\n",
       "LA              -0.9\n",
       "LB                 0\n",
       "LC                 0\n",
       "LD               0.9\n",
       "LE               2.9\n",
       "LF              23.3\n",
       "LG              49.4\n",
       "diagnosis          8\n",
       "Name: 0, Length: 280, dtype: object"
      ]
     },
     "execution_count": 5,
     "metadata": {},
     "output_type": "execute_result"
    }
   ],
   "source": [
    "data.iloc[0]"
   ]
  },
  {
   "cell_type": "markdown",
   "metadata": {},
   "source": [
    "Se procede a hacer la seleccion de datos. Nos interesa saber el resultado del diagnostico , de modo que ese va a ser nuestro Y del ejercicio. Algunos datos que podemos utilzar para determinar el resultado son: \n",
    "\n",
    "- edad, sexo, peso, tamaño: Caracteristicas fundamentales de la persona\n",
    "- qrs_duration, p-r_interval, q-t_interval, t_interval,p_interval,qrs caracteristicas del electrocardiograma\n",
    "- Heart rate: beats por minuto\n",
    "- Q wave, R wave, S wave, R' wave: ancho en ms de la onda (se verificaran posteriormente en caso de que se necesiten mejoras)"
   ]
  },
  {
   "cell_type": "code",
   "execution_count": 6,
   "metadata": {},
   "outputs": [],
   "source": [
    "cols_to_use = ['q_wave','r_wave','s_wave',\"R'_wave\",'age','sex','height','weight','qrs_duration', 'p-r_interval','q-t_interval','t_interval','p_interval','qrs','heart_rate','diagnosis']"
   ]
  },
  {
   "cell_type": "code",
   "execution_count": 7,
   "metadata": {},
   "outputs": [],
   "source": [
    "data_to_use = data[cols_to_use]"
   ]
  },
  {
   "cell_type": "code",
   "execution_count": 8,
   "metadata": {},
   "outputs": [
    {
     "data": {
      "text/plain": [
       "True"
      ]
     },
     "execution_count": 8,
     "metadata": {},
     "output_type": "execute_result"
    }
   ],
   "source": [
    "data_to_use.isnull().values.any()"
   ]
  },
  {
   "cell_type": "code",
   "execution_count": 9,
   "metadata": {},
   "outputs": [],
   "source": [
    "data_to_use = data_to_use.dropna()"
   ]
  },
  {
   "cell_type": "code",
   "execution_count": 10,
   "metadata": {},
   "outputs": [
    {
     "data": {
      "text/plain": [
       "(450, 16)"
      ]
     },
     "execution_count": 10,
     "metadata": {},
     "output_type": "execute_result"
    }
   ],
   "source": [
    "data_to_use.shape"
   ]
  },
  {
   "cell_type": "markdown",
   "metadata": {},
   "source": [
    "Solo se perdió 2 filas, lo cual es un resultado bastante satisfactorio. Se procede entonces a realizar los respectivos revisiones de datos para las columnas a usar. Se verifica que los datos sean enteros."
   ]
  },
  {
   "cell_type": "code",
   "execution_count": 11,
   "metadata": {},
   "outputs": [
    {
     "name": "stdout",
     "output_type": "stream",
     "text": [
      "[75, 56, 54, 55, 13, 40, 49, 44, 50, 62, 45, 30, 47, 46, 73, 57, 28, 36, 34, 31, 51, 53, 58, 52, 69, 35, 43, 41, 39, 24, 72, 38, 42, 32, 1, 27, 48, 26, 64, 37, 71, 79, 63, 19, 68, 25, 33, 17, 9, 29, 74, 61, 18, 60, 59, 66, 65, 22, 21, 70, 11, 77, 83, 67, 80, 15, 7, 12, 14, 0, 3, 20, 81, 8, 78, 16, 76]\n",
      "[0, 1]\n",
      "[190, 165, 172, 175, 169, 160, 162, 168, 167, 170, 150, 171, 158, 166, 153, 164, 163, 155, 176, 157, 156, 159, 110, 182, 161, 177, 185, 184, 132, 154, 186, 780, 173, 178, 179, 180, 133, 124, 174, 149, 130, 608, 105, 188, 181, 146, 120, 152, 127, 148, 119, 138, 140]\n",
      "[80, 64, 95, 94, 51, 52, 54, 56, 67, 72, 86, 58, 73, 88, 48, 59, 63, 75, 55, 65, 83, 85, 68, 70, 45, 60, 71, 62, 61, 57, 53, 76, 79, 66, 10, 82, 90, 100, 50, 104, 105, 40, 96, 33, 69, 74, 78, 18, 6, 47, 89, 81, 30, 84, 25, 176, 77, 98, 87, 124, 106, 97, 110, 12, 91, 43, 38, 28, 46, 22, 44, 42, 21, 93, 24, 29]\n",
      "[91, 81, 138, 100, 77, 78, 84, 89, 102, 75, 82, 70, 83, 90, 71, 109, 94, 95, 96, 85, 69, 103, 80, 79, 92, 86, 73, 88, 76, 87, 101, 93, 163, 114, 170, 137, 72, 97, 98, 106, 74, 99, 111, 63, 113, 68, 110, 108, 153, 62, 146, 67, 105, 61, 104, 132, 131, 121, 123, 107, 118, 188, 147, 185, 140, 55, 133]\n",
      "[193, 174, 163, 202, 167, 129, 0, 118, 130, 135, 143, 155, 180, 158, 132, 145, 120, 154, 181, 251, 122, 157, 140, 128, 186, 161, 164, 147, 136, 125, 137, 178, 142, 200, 185, 162, 152, 177, 159, 156, 228, 176, 121, 168, 117, 150, 171, 166, 294, 173, 138, 148, 195, 151, 191, 192, 217, 194, 160, 169, 133, 292, 188, 203, 170, 165, 153, 141, 197, 146, 259, 134, 126, 127, 123, 124, 187, 216, 115, 183, 205, 172, 139, 240, 184, 175, 109, 131, 106, 113, 182, 144, 149, 224, 105, 320, 204, 196, 198, 201, 209, 213, 199, 103, 114, 524]\n",
      "[371, 401, 386, 380, 321, 377, 376, 354, 383, 373, 382, 355, 399, 350, 347, 353, 392, 336, 364, 406, 388, 407, 420, 400, 408, 339, 368, 357, 366, 385, 346, 367, 322, 369, 429, 379, 359, 356, 370, 372, 287, 324, 374, 363, 410, 384, 361, 418, 431, 331, 330, 349, 381, 419, 393, 342, 328, 338, 397, 450, 241, 387, 343, 414, 415, 360, 335, 390, 411, 340, 325, 378, 362, 352, 398, 337, 237, 375, 323, 396, 413, 358, 409, 351, 345, 394, 266, 439, 304, 426, 421, 332, 310, 391, 438, 329, 465, 412, 389, 297, 313, 326, 308, 348, 334, 423, 402, 444, 434, 294, 341, 404, 440, 232, 240, 344, 333, 302, 327, 290, 452, 405, 448, 365, 303, 293, 301, 458, 258, 509, 284, 417]\n",
      "[174, 149, 185, 179, 133, 157, 160, 156, 150, 163, 169, 122, 175, 158, 189, 177, 143, 195, 224, 168, 381, 301, 172, 152, 183, 148, 129, 137, 161, 166, 159, 141, 144, 147, 138, 130, 162, 142, 113, 165, 155, 167, 209, 151, 164, 178, 176, 132, 145, 242, 222, 264, 244, 221, 171, 135, 235, 192, 193, 117, 182, 170, 108, 203, 154, 206, 139, 134, 153, 180, 140, 181, 131, 116, 243, 198, 191, 231, 218, 253, 127, 207, 190, 136, 220, 245, 283, 184, 200, 196, 125, 202, 262, 121, 249, 250, 251, 214, 266, 229, 197, 146, 254, 188, 258, 216, 225, 187, 201, 128, 241, 297, 292, 173, 248, 237, 273, 247, 261, 111, 327, 123, 255, 126, 226, 260, 120, 228, 194]\n",
      "[121, 39, 102, 143, 91, 77, 70, 63, 73, 83, 65, 81, 104, 94, 61, 52, 79, 183, 78, 82, 92, 60, 125, 99, 76, 101, 80, 74, 107, 106, 84, 96, 71, 113, 105, 97, 68, 88, 0, 54, 67, 75, 72, 87, 100, 108, 118, 117, 95, 98, 116, 126, 85, 175, 89, 93, 144, 178, 90, 114, 103, 132, 58, 127, 51, 62, 86, 170, 149, 123, 111, 64, 137, 57, 109, 120, 122, 155, 115, 42, 66, 69, 37, 204, 139, 110, 55, 205, 112, 181]\n",
      "[-16, 25, 96, 28, 107, 77, 67, 61, 85, 72, 12, -24, 68, 46, 36, 57, 73, -12, 50, 81, 62, 4, 52, -34, 90, 10, -8, -37, -52, 13, 38, 9, 49, 54, 48, -2, -57, 53, 59, -18, 18, 30, 63, -14, 1, 34, 11, 64, 58, -11, 42, 126, 40, 74, 66, 75, 56, -36, 33, 88, 116, 60, 44, -55, 82, 14, 27, -4, -13, -137, 19, 24, 22, 26, -10, 169, 43, -1, 37, 41, 78, 55, -21, 15, -46, 39, 29, -5, 84, 71, 7, 91, 23, -50, 70, 94, 65, -51, -7, 51, 79, 80, 20, -32, -40, 76, -20, -58, -22, 47, 102, -6, -15, 16, 111, 86, 35, 3, -25, 2, 17, -19, -38, -63, -48, 8, 87, -31, -29, 69, -39, -26, -49, 0, -44, 155, -27, 83, 32, 21, -166, 125, 93, 119, -60, 5, -56, 110, 31, 112, -62, -73, 120, 129, 92, 45, -172, -158, -67, -85]\n",
      "[63.0, 53.0, 75.0, 71.0, 84.0, 70.0, 67.0, 64.0, 72.0, 73.0, 56.0, 76.0, 66.0, 77.0, 69.0, 68.0, 83.0, 79.0, 51.0, 81.0, 93.0, 80.0, 62.0, 82.0, 91.0, 89.0, 98.0, 78.0, 65.0, 59.0, 57.0, 104.0, 92.0, 54.0, 60.0, 86.0, 74.0, 50.0, 85.0, 103.0, 101.0, 61.0, 58.0, 138.0, 94.0, 96.0, 88.0, 115.0, 97.0, 102.0, 87.0, 55.0, 44.0, 100.0, 163.0, 124.0, 112.0, 123.0, 107.0, 117.0, 122.0, 49.0, 120.0]\n",
      "[8.0, 6.0, 10.0, 1.0, 14.0, 3.0, 16.0, 2.0, 4.0, 5.0, 9.0, 15.0, 7.0]\n",
      "[0, 20, 16, 12, 88, 24, 72, 28, 44, 32, 36]\n",
      "[52, 48, 40, 72, 36, 44, 92, 80, 56, 60, 64, 68, 76, 28, 0, 32, 140, 124, 120, 84, 136, 88, 20, 100, 128, 24, 156, 16]\n",
      "[44, 0, 80, 20, 48, 36, 40, 28, 56, 16, 24, 12, 32, 60, 88, 72, 52, 64, 76, 68]\n",
      "[0, 24, 12, 16]\n"
     ]
    }
   ],
   "source": [
    "print(data_to_use['age'].unique().tolist())\n",
    "print(data_to_use['sex'].unique().tolist())\n",
    "print(data_to_use['height'].unique().tolist())\n",
    "print(data_to_use['weight'].unique().tolist())\n",
    "print(data_to_use['qrs_duration'].unique().tolist())\n",
    "print(data_to_use['p-r_interval'].unique().tolist())\n",
    "print(data_to_use['q-t_interval'].unique().tolist())\n",
    "print(data_to_use['t_interval'].unique().tolist())\n",
    "print(data_to_use['p_interval'].unique().tolist())\n",
    "print(data_to_use['qrs'].unique().tolist())\n",
    "print(data_to_use['heart_rate'].unique().tolist())\n",
    "print(data_to_use['diagnosis'].unique().tolist())\n",
    "print(data_to_use['q_wave'].unique().tolist())\n",
    "print(data_to_use['r_wave'].unique().tolist())\n",
    "print(data_to_use['s_wave'].unique().tolist())\n",
    "print(data_to_use[\"R'_wave\"].unique().tolist())"
   ]
  },
  {
   "cell_type": "code",
   "execution_count": 12,
   "metadata": {},
   "outputs": [
    {
     "data": {
      "text/plain": [
       "q_wave          int64\n",
       "r_wave          int64\n",
       "s_wave          int64\n",
       "R'_wave         int64\n",
       "age             int64\n",
       "sex             int64\n",
       "height          int64\n",
       "weight          int64\n",
       "qrs_duration    int64\n",
       "p-r_interval    int64\n",
       "q-t_interval    int64\n",
       "t_interval      int64\n",
       "p_interval      int64\n",
       "qrs             int64\n",
       "heart_rate      int64\n",
       "diagnosis       int64\n",
       "dtype: object"
      ]
     },
     "execution_count": 12,
     "metadata": {},
     "output_type": "execute_result"
    }
   ],
   "source": [
    "data_to_use.heart_rate = data_to_use.heart_rate.astype(int)\n",
    "data_to_use.diagnosis = data_to_use.diagnosis.astype(int)\n",
    "data_to_use.dtypes"
   ]
  },
  {
   "cell_type": "code",
   "execution_count": 13,
   "metadata": {},
   "outputs": [
    {
     "data": {
      "text/html": [
       "<div>\n",
       "<style scoped>\n",
       "    .dataframe tbody tr th:only-of-type {\n",
       "        vertical-align: middle;\n",
       "    }\n",
       "\n",
       "    .dataframe tbody tr th {\n",
       "        vertical-align: top;\n",
       "    }\n",
       "\n",
       "    .dataframe thead th {\n",
       "        text-align: right;\n",
       "    }\n",
       "</style>\n",
       "<table border=\"1\" class=\"dataframe\">\n",
       "  <thead>\n",
       "    <tr style=\"text-align: right;\">\n",
       "      <th></th>\n",
       "      <th>q_wave</th>\n",
       "      <th>r_wave</th>\n",
       "      <th>s_wave</th>\n",
       "      <th>R'_wave</th>\n",
       "      <th>age</th>\n",
       "      <th>sex</th>\n",
       "      <th>height</th>\n",
       "      <th>weight</th>\n",
       "      <th>qrs_duration</th>\n",
       "      <th>p-r_interval</th>\n",
       "      <th>q-t_interval</th>\n",
       "      <th>t_interval</th>\n",
       "      <th>p_interval</th>\n",
       "      <th>qrs</th>\n",
       "      <th>heart_rate</th>\n",
       "      <th>diagnosis</th>\n",
       "    </tr>\n",
       "  </thead>\n",
       "  <tbody>\n",
       "    <tr>\n",
       "      <th>0</th>\n",
       "      <td>0</td>\n",
       "      <td>52</td>\n",
       "      <td>44</td>\n",
       "      <td>0</td>\n",
       "      <td>75</td>\n",
       "      <td>0</td>\n",
       "      <td>190</td>\n",
       "      <td>80</td>\n",
       "      <td>91</td>\n",
       "      <td>193</td>\n",
       "      <td>371</td>\n",
       "      <td>174</td>\n",
       "      <td>121</td>\n",
       "      <td>-16</td>\n",
       "      <td>63</td>\n",
       "      <td>8</td>\n",
       "    </tr>\n",
       "    <tr>\n",
       "      <th>1</th>\n",
       "      <td>0</td>\n",
       "      <td>48</td>\n",
       "      <td>0</td>\n",
       "      <td>0</td>\n",
       "      <td>56</td>\n",
       "      <td>1</td>\n",
       "      <td>165</td>\n",
       "      <td>64</td>\n",
       "      <td>81</td>\n",
       "      <td>174</td>\n",
       "      <td>401</td>\n",
       "      <td>149</td>\n",
       "      <td>39</td>\n",
       "      <td>25</td>\n",
       "      <td>53</td>\n",
       "      <td>6</td>\n",
       "    </tr>\n",
       "    <tr>\n",
       "      <th>2</th>\n",
       "      <td>0</td>\n",
       "      <td>40</td>\n",
       "      <td>80</td>\n",
       "      <td>0</td>\n",
       "      <td>54</td>\n",
       "      <td>0</td>\n",
       "      <td>172</td>\n",
       "      <td>95</td>\n",
       "      <td>138</td>\n",
       "      <td>163</td>\n",
       "      <td>386</td>\n",
       "      <td>185</td>\n",
       "      <td>102</td>\n",
       "      <td>96</td>\n",
       "      <td>75</td>\n",
       "      <td>10</td>\n",
       "    </tr>\n",
       "    <tr>\n",
       "      <th>3</th>\n",
       "      <td>0</td>\n",
       "      <td>72</td>\n",
       "      <td>20</td>\n",
       "      <td>0</td>\n",
       "      <td>55</td>\n",
       "      <td>0</td>\n",
       "      <td>175</td>\n",
       "      <td>94</td>\n",
       "      <td>100</td>\n",
       "      <td>202</td>\n",
       "      <td>380</td>\n",
       "      <td>179</td>\n",
       "      <td>143</td>\n",
       "      <td>28</td>\n",
       "      <td>71</td>\n",
       "      <td>1</td>\n",
       "    </tr>\n",
       "    <tr>\n",
       "      <th>5</th>\n",
       "      <td>0</td>\n",
       "      <td>36</td>\n",
       "      <td>48</td>\n",
       "      <td>0</td>\n",
       "      <td>13</td>\n",
       "      <td>0</td>\n",
       "      <td>169</td>\n",
       "      <td>51</td>\n",
       "      <td>100</td>\n",
       "      <td>167</td>\n",
       "      <td>321</td>\n",
       "      <td>174</td>\n",
       "      <td>91</td>\n",
       "      <td>107</td>\n",
       "      <td>84</td>\n",
       "      <td>14</td>\n",
       "    </tr>\n",
       "  </tbody>\n",
       "</table>\n",
       "</div>"
      ],
      "text/plain": [
       "   q_wave  r_wave  s_wave  R'_wave  age  sex  height  weight  qrs_duration  \\\n",
       "0       0      52      44        0   75    0     190      80            91   \n",
       "1       0      48       0        0   56    1     165      64            81   \n",
       "2       0      40      80        0   54    0     172      95           138   \n",
       "3       0      72      20        0   55    0     175      94           100   \n",
       "5       0      36      48        0   13    0     169      51           100   \n",
       "\n",
       "   p-r_interval  q-t_interval  t_interval  p_interval  qrs  heart_rate  \\\n",
       "0           193           371         174         121  -16          63   \n",
       "1           174           401         149          39   25          53   \n",
       "2           163           386         185         102   96          75   \n",
       "3           202           380         179         143   28          71   \n",
       "5           167           321         174          91  107          84   \n",
       "\n",
       "   diagnosis  \n",
       "0          8  \n",
       "1          6  \n",
       "2         10  \n",
       "3          1  \n",
       "5         14  "
      ]
     },
     "execution_count": 13,
     "metadata": {},
     "output_type": "execute_result"
    }
   ],
   "source": [
    "features = data_to_use[['age','sex','height','weight','qrs_duration', 'p-r_interval','q-t_interval','t_interval','p_interval','qrs','heart_rate']]\n",
    "labels = data_to_use['diagnosis']\n",
    "data_to_use.head()"
   ]
  },
  {
   "cell_type": "markdown",
   "metadata": {},
   "source": [
    "# Análisis de datos utilizando los métodos vistos en clases\n",
    "## Decision Tree\n",
    "Empezamos por el primer método estudiado en clase el decisión tree y observamos sus resultados."
   ]
  },
  {
   "cell_type": "code",
   "execution_count": 14,
   "metadata": {},
   "outputs": [
    {
     "data": {
      "text/plain": [
       "(113,)"
      ]
     },
     "execution_count": 14,
     "metadata": {},
     "output_type": "execute_result"
    }
   ],
   "source": [
    "from sklearn.model_selection import train_test_split\n",
    "X_train, X_test, y_train, y_test = train_test_split(features,labels, random_state=20)\n",
    "X_train.shape\n",
    "X_test.shape\n",
    "y_train.shape\n",
    "y_test.shape"
   ]
  },
  {
   "cell_type": "code",
   "execution_count": 15,
   "metadata": {},
   "outputs": [
    {
     "data": {
      "text/plain": [
       "0.6283185840707964"
      ]
     },
     "execution_count": 15,
     "metadata": {},
     "output_type": "execute_result"
    }
   ],
   "source": [
    "from sklearn.tree import DecisionTreeClassifier\n",
    "DecisionTreeModel = DecisionTreeClassifier(max_depth = 5)\n",
    "DecisionTreeModel.fit(X_train,y_train)\n",
    "from sklearn.metrics import accuracy_score\n",
    "y_predict = DecisionTreeModel.predict(X_test)\n",
    "accuracy_score(y_test, y_predict)"
   ]
  },
  {
   "cell_type": "markdown",
   "metadata": {},
   "source": [
    "### Mejoras al modelo"
   ]
  },
  {
   "cell_type": "markdown",
   "metadata": {},
   "source": [
    "- Una observacion interesante de este modelo, fue que sal incrementar progresivamente la profundidad en 3,5,7,10,15, el accuracy baja. \n",
    "\n",
    " <table>\n",
    "  <tr>\n",
    "    <th>Depth</th>\n",
    "    <th>Accuracy</th>\n",
    "  </tr>\n",
    "  <tr>\n",
    "    <td>3</td>\n",
    "    <td>0.5486</td>\n",
    "  </tr>\n",
    "  <tr>\n",
    "    <td>5</td>\n",
    "    <td>0.5752</td>\n",
    "  </tr>\n",
    "  <tr>\n",
    "    <td>7</td>\n",
    "    <td>0.5498</td>\n",
    "  </tr>\n",
    "  <tr>\n",
    "    <td>10</td>\n",
    "    <td>0.4867</td>\n",
    "  </tr>\n",
    "  <tr>\n",
    "    <td>15</td>\n",
    "    <td>0.4690</td>\n",
    "  </tr>\n",
    "</table> \n",
    "\n",
    "- Se probaron variaciones en el random sate, sin embargo no se observaron cambios significativos probando con valores de 13,20 y 30. Se decide utilizar 20 ya que obtuvo el mejor resultado. \n",
    "- Se remueve también peso tamaño y sexo, ya que se obtuvo mejores resultados sin estas columnas"
   ]
  },
  {
   "cell_type": "code",
   "execution_count": 16,
   "metadata": {},
   "outputs": [
    {
     "data": {
      "text/html": [
       "<div>\n",
       "<style scoped>\n",
       "    .dataframe tbody tr th:only-of-type {\n",
       "        vertical-align: middle;\n",
       "    }\n",
       "\n",
       "    .dataframe tbody tr th {\n",
       "        vertical-align: top;\n",
       "    }\n",
       "\n",
       "    .dataframe thead th {\n",
       "        text-align: right;\n",
       "    }\n",
       "</style>\n",
       "<table border=\"1\" class=\"dataframe\">\n",
       "  <thead>\n",
       "    <tr style=\"text-align: right;\">\n",
       "      <th></th>\n",
       "      <th>importance</th>\n",
       "    </tr>\n",
       "    <tr>\n",
       "      <th>feature</th>\n",
       "      <th></th>\n",
       "    </tr>\n",
       "  </thead>\n",
       "  <tbody>\n",
       "    <tr>\n",
       "      <th>heart_rate</th>\n",
       "      <td>0.321913</td>\n",
       "    </tr>\n",
       "    <tr>\n",
       "      <th>t_interval</th>\n",
       "      <td>0.203590</td>\n",
       "    </tr>\n",
       "    <tr>\n",
       "      <th>qrs_duration</th>\n",
       "      <td>0.190974</td>\n",
       "    </tr>\n",
       "    <tr>\n",
       "      <th>age</th>\n",
       "      <td>0.099822</td>\n",
       "    </tr>\n",
       "    <tr>\n",
       "      <th>qrs</th>\n",
       "      <td>0.066299</td>\n",
       "    </tr>\n",
       "    <tr>\n",
       "      <th>q-t_interval</th>\n",
       "      <td>0.060273</td>\n",
       "    </tr>\n",
       "    <tr>\n",
       "      <th>r_wave</th>\n",
       "      <td>0.031571</td>\n",
       "    </tr>\n",
       "    <tr>\n",
       "      <th>q_wave</th>\n",
       "      <td>0.014282</td>\n",
       "    </tr>\n",
       "    <tr>\n",
       "      <th>p-r_interval</th>\n",
       "      <td>0.011275</td>\n",
       "    </tr>\n",
       "    <tr>\n",
       "      <th>s_wave</th>\n",
       "      <td>0.000000</td>\n",
       "    </tr>\n",
       "    <tr>\n",
       "      <th>p_interval</th>\n",
       "      <td>0.000000</td>\n",
       "    </tr>\n",
       "  </tbody>\n",
       "</table>\n",
       "</div>"
      ],
      "text/plain": [
       "              importance\n",
       "feature                 \n",
       "heart_rate      0.321913\n",
       "t_interval      0.203590\n",
       "qrs_duration    0.190974\n",
       "age             0.099822\n",
       "qrs             0.066299\n",
       "q-t_interval    0.060273\n",
       "r_wave          0.031571\n",
       "q_wave          0.014282\n",
       "p-r_interval    0.011275\n",
       "s_wave          0.000000\n",
       "p_interval      0.000000"
      ]
     },
     "execution_count": 16,
     "metadata": {},
     "output_type": "execute_result"
    }
   ],
   "source": [
    "features = data_to_use[['q_wave','r_wave','s_wave','age','qrs_duration', 'p-r_interval','q-t_interval','t_interval','p_interval','qrs','heart_rate']]\n",
    "labels = data_to_use['diagnosis']\n",
    "X_train, X_test, y_train, y_test = train_test_split(features,labels, random_state=20)\n",
    "X_train.shape\n",
    "X_test.shape\n",
    "y_train.shape\n",
    "y_test.shape\n",
    "DecisionTreeModel = DecisionTreeClassifier(max_depth = 5)\n",
    "DecisionTreeModel.fit(X_train,y_train)\n",
    "y_predict = DecisionTreeModel.predict(X_test)\n",
    "importances = pd.DataFrame({'feature' : X_train.columns, 'importance':DecisionTreeModel.feature_importances_})\n",
    "importances = importances.sort_values('importance', ascending = False).set_index('feature')\n",
    "importances.head(11)"
   ]
  },
  {
   "cell_type": "code",
   "execution_count": 17,
   "metadata": {},
   "outputs": [
    {
     "data": {
      "text/plain": [
       "0.6548672566371682"
      ]
     },
     "execution_count": 17,
     "metadata": {},
     "output_type": "execute_result"
    }
   ],
   "source": [
    "accuracy_score(y_test, y_predict)"
   ]
  },
  {
   "cell_type": "markdown",
   "metadata": {},
   "source": [
    "A pesar que no se obtiene una precision ideal, se puede observar detalles interesantes:\n",
    "\n",
    "- Una alta importancia a la frecuencia cardiaca es uno de los parámetros utilizados por los médicos para determinar el tipo de arritmia. \n",
    "- El qrs es vital para los médicos ya que en el electro cardiograma y las curvas del ecg se observan diferentes tipos de arritmias\n",
    "- Es decir el modelo da señales de estar utilizando como referencia la información correcta. Es posible que el tipo de estrategia implementada y la naturaleza cambiante de los datos afecten la precisión con la estrategia de decision tree.\n",
    "- Nota: Estas conclusiones están basadas en estudios propios el en area de la electrofisiología en el diagnóstico de arritmias cardiacas. Así como en observaciones de las conclusiones del siguiente paper: http://www.cs.bilkent.edu.tr/tech-reports/1998/BU-CEIS-9802.pdf, el cual utiliza el mismo set de datos como base\n"
   ]
  },
  {
   "cell_type": "markdown",
   "metadata": {},
   "source": [
    "## Random Forest\n",
    "\n",
    "Procedemos a utilizar el mismo conjunto de datos bajo el método del random forest"
   ]
  },
  {
   "cell_type": "code",
   "execution_count": 18,
   "metadata": {},
   "outputs": [
    {
     "data": {
      "text/html": [
       "<div>\n",
       "<style scoped>\n",
       "    .dataframe tbody tr th:only-of-type {\n",
       "        vertical-align: middle;\n",
       "    }\n",
       "\n",
       "    .dataframe tbody tr th {\n",
       "        vertical-align: top;\n",
       "    }\n",
       "\n",
       "    .dataframe thead th {\n",
       "        text-align: right;\n",
       "    }\n",
       "</style>\n",
       "<table border=\"1\" class=\"dataframe\">\n",
       "  <thead>\n",
       "    <tr style=\"text-align: right;\">\n",
       "      <th></th>\n",
       "      <th>importance</th>\n",
       "    </tr>\n",
       "    <tr>\n",
       "      <th>feature</th>\n",
       "      <th></th>\n",
       "    </tr>\n",
       "  </thead>\n",
       "  <tbody>\n",
       "    <tr>\n",
       "      <th>heart_rate</th>\n",
       "      <td>0.203165</td>\n",
       "    </tr>\n",
       "    <tr>\n",
       "      <th>qrs_duration</th>\n",
       "      <td>0.129829</td>\n",
       "    </tr>\n",
       "    <tr>\n",
       "      <th>t_interval</th>\n",
       "      <td>0.128427</td>\n",
       "    </tr>\n",
       "    <tr>\n",
       "      <th>qrs</th>\n",
       "      <td>0.098699</td>\n",
       "    </tr>\n",
       "    <tr>\n",
       "      <th>age</th>\n",
       "      <td>0.088650</td>\n",
       "    </tr>\n",
       "    <tr>\n",
       "      <th>q-t_interval</th>\n",
       "      <td>0.082254</td>\n",
       "    </tr>\n",
       "    <tr>\n",
       "      <th>p_interval</th>\n",
       "      <td>0.081221</td>\n",
       "    </tr>\n",
       "    <tr>\n",
       "      <th>s_wave</th>\n",
       "      <td>0.062358</td>\n",
       "    </tr>\n",
       "    <tr>\n",
       "      <th>r_wave</th>\n",
       "      <td>0.060121</td>\n",
       "    </tr>\n",
       "    <tr>\n",
       "      <th>p-r_interval</th>\n",
       "      <td>0.047641</td>\n",
       "    </tr>\n",
       "    <tr>\n",
       "      <th>q_wave</th>\n",
       "      <td>0.017635</td>\n",
       "    </tr>\n",
       "  </tbody>\n",
       "</table>\n",
       "</div>"
      ],
      "text/plain": [
       "              importance\n",
       "feature                 \n",
       "heart_rate      0.203165\n",
       "qrs_duration    0.129829\n",
       "t_interval      0.128427\n",
       "qrs             0.098699\n",
       "age             0.088650\n",
       "q-t_interval    0.082254\n",
       "p_interval      0.081221\n",
       "s_wave          0.062358\n",
       "r_wave          0.060121\n",
       "p-r_interval    0.047641\n",
       "q_wave          0.017635"
      ]
     },
     "execution_count": 18,
     "metadata": {},
     "output_type": "execute_result"
    }
   ],
   "source": [
    "from sklearn.ensemble import RandomForestClassifier\n",
    "features = data_to_use[['q_wave','r_wave','s_wave','age','qrs_duration', 'p-r_interval','q-t_interval','t_interval','p_interval','qrs','heart_rate']]\n",
    "RandomForestModel = RandomForestClassifier(min_samples_leaf=3,min_samples_split=10,n_estimators=50, max_depth= None, random_state=20)\n",
    "RandomForestModel.fit(X_train, y_train)\n",
    "y_predict = RandomForestModel.predict(X_test)\n",
    "importances = pd.DataFrame({'feature' : X_train.columns, 'importance':RandomForestModel.feature_importances_})\n",
    "importances = importances.sort_values('importance', ascending = False).set_index('feature')\n",
    "importances.head(11)"
   ]
  },
  {
   "cell_type": "code",
   "execution_count": 19,
   "metadata": {},
   "outputs": [
    {
     "data": {
      "text/plain": [
       "0.6991150442477876"
      ]
     },
     "execution_count": 19,
     "metadata": {},
     "output_type": "execute_result"
    }
   ],
   "source": [
    "accuracy_score(y_test,y_predict)\n"
   ]
  },
  {
   "cell_type": "markdown",
   "metadata": {},
   "source": [
    "Se puede observar una ligera mejora en el este método con un 4% de mejora.\n",
    "\n",
    "- Algunas estrategias implementadas para este caso fue aumentar la cantidad de n_estimator, no se observó alguna mejora o degradación significativa\n",
    "- min_samples_split al utilizar 10 se obtuvo el mejor valor, se probó tambien  30 (65% acc) y 15( 69.0% acc)\n",
    "- min leaf obtuvo su valor máximo en 3. Con una degradación progresiva connforme de aumentó el valor del minimo de hojas\n",
    "- max_deth mostró el mejor resultado en NONE, con una degradación progresiva al aumentar la profundidad máxima\n",
    "- Esta precisión es similar a la obtenida por los autores del paper."
   ]
  },
  {
   "cell_type": "markdown",
   "metadata": {},
   "source": [
    "## KNeighborsClassifier\n",
    "\n",
    "Procedemos a utilizar el mismo conjunto de datos bajo el método de k Nearest Neighbors "
   ]
  },
  {
   "cell_type": "code",
   "execution_count": 20,
   "metadata": {},
   "outputs": [
    {
     "name": "stdout",
     "output_type": "stream",
     "text": [
      "[0.3893805309734513, 0.5575221238938053, 0.5752212389380531, 0.5929203539823009, 0.6017699115044248, 0.6017699115044248, 0.6017699115044248, 0.6106194690265486, 0.6194690265486725, 0.5929203539823009]\n"
     ]
    },
    {
     "data": {
      "image/png": "[encoded data removed]",
      "text/plain": [
       "<Figure size 432x288 with 1 Axes>"
      ]
     },
     "metadata": {
      "needs_background": "light"
     },
     "output_type": "display_data"
    }
   ],
   "source": [
    "from sklearn.neighbors import KNeighborsClassifier\n",
    "X_train, X_test, y_train, y_test = train_test_split(features, labels ,random_state=60)\n",
    "training_accuracy = []\n",
    "test_accuracy = []\n",
    "acc_score= []\n",
    "import matplotlib.pyplot as plt\n",
    "%matplotlib inline\n",
    "\n",
    "neighbors_settings = range(1, 11)\n",
    "for n_neighbors in neighbors_settings:\n",
    "    # se construye el modelo de clasificacion\n",
    "    clf = KNeighborsClassifier(n_neighbors=n_neighbors)\n",
    "    clf.fit(X_train, y_train)\n",
    "    # se almacena el \"training set accuracy\"\n",
    "    training_accuracy.append(clf.score(X_train, y_train))\n",
    "    # se almacena la \"generalization accuracy\"\n",
    "    test_accuracy.append(clf.score(X_test, y_test))\n",
    "    y_predict = clf.predict(X_test)\n",
    "    acc_score.append(accuracy_score(y_test, y_predict))\n",
    "plt.plot(neighbors_settings, training_accuracy, label=\"training accuracy\")\n",
    "plt.plot(neighbors_settings, test_accuracy, label=\"test accuracy\")\n",
    "plt.ylabel(\"Accuracy\")\n",
    "plt.xlabel(\"n_neighbors\")\n",
    "plt.legend()\n",
    "print(acc_score)"
   ]
  },
  {
   "cell_type": "markdown",
   "metadata": {},
   "source": [
    "Observando los resultados colectados se puede concluir lo siguiente:\n",
    "\n",
    "    1. El mejor accuracy que se va a obtener sería un 60%\n",
    "    2. Esto sucede idealmente cuando ambas curvas se cruzan, de modo que para que no haya overfit o underfit se podrían utilizar 7 vecinos\n",
    "    3. Al realizar variaciones sobre el random state, no se observaron mejoras significativas\n",
    "    4. Los resultados obtenidos siguen siendo inferiores al random forest\n",
    "    \n",
    "    "
   ]
  },
  {
   "cell_type": "markdown",
   "metadata": {},
   "source": [
    "## Naive Bayes\n",
    "\n",
    "Procedemos finalmente a utilizar el último de método de los vistos en clase. "
   ]
  },
  {
   "cell_type": "code",
   "execution_count": 21,
   "metadata": {},
   "outputs": [
    {
     "name": "stdout",
     "output_type": "stream",
     "text": [
      "Training set score: 0.586\n",
      "Test set score: 0.656\n"
     ]
    },
    {
     "data": {
      "text/plain": [
       "0.6555555555555556"
      ]
     },
     "execution_count": 21,
     "metadata": {},
     "output_type": "execute_result"
    }
   ],
   "source": [
    "from sklearn.naive_bayes import GaussianNB\n",
    "\n",
    "X_train, X_test, y_train, y_test = train_test_split(features, labels, test_size =0.2,random_state=13)\n",
    "nbg = GaussianNB().fit(X_train, y_train)\n",
    "print(\"Training set score: {:.3f}\".format(nbg.score(X_train, y_train)))\n",
    "print(\"Test set score: {:.3f}\".format(nbg.score(X_test, y_test)))\n",
    "y_predict = nbg.predict(X_test)\n",
    "accuracy_score(y_test, y_predict)"
   ]
  },
  {
   "cell_type": "markdown",
   "metadata": {},
   "source": [
    "Para este caso se intento mejorar la precision del training set, donde se observó que 0.2 arrojaba los mejores resultado. Por otro lado el random state en 13 mostró el mejor balance entre training accuracy y test accuracy."
   ]
  },
  {
   "cell_type": "markdown",
   "metadata": {},
   "source": [
    "# Análisis de datos utilizando nuevos métodos"
   ]
  },
  {
   "cell_type": "markdown",
   "metadata": {},
   "source": [
    "## Métodos de ensamble\n",
    "\n",
    "Primeramente este tipo de métodos, son aquellos que combinan varios modelos base para predecir un modelo predictivo óptimo. Un ejemplo de esto sería el random forest, el cual decide donde hacer los ajustes y cortes basándose en una selección aleatoria de características, en vez de utilizar un criterio fijo para hacer el corte. Los siguientes 2 métodos a implementar utilizarán este concepto, partiremos pirmero de la base del random forest y finalmente exploraremos Bagging meta-estimator\n",
    "\n"
   ]
  },
  {
   "cell_type": "markdown",
   "metadata": {},
   "source": [
    "## Extremely Randomized Trees\n",
    "\n",
    "En este tipo de árboles se explota aún mas la aleatoriedad en la forma en la cual se realizan los recortes del árbol. La idea  principal es partir del random forest, pero en vez de buscar en algún treshold para realizar la discriminación, estos se obtienen aleatoriamente para cada característica, se procede luego a seleccionar los mejores thresholds generados y se utilizando como regla de recorte. AL ser una especie de optimización del método que mejores resultados demostró, se espera que al menos iguale el resultado obtenido del randomforest"
   ]
  },
  {
   "cell_type": "code",
   "execution_count": 22,
   "metadata": {},
   "outputs": [
    {
     "data": {
      "text/html": [
       "<div>\n",
       "<style scoped>\n",
       "    .dataframe tbody tr th:only-of-type {\n",
       "        vertical-align: middle;\n",
       "    }\n",
       "\n",
       "    .dataframe tbody tr th {\n",
       "        vertical-align: top;\n",
       "    }\n",
       "\n",
       "    .dataframe thead th {\n",
       "        text-align: right;\n",
       "    }\n",
       "</style>\n",
       "<table border=\"1\" class=\"dataframe\">\n",
       "  <thead>\n",
       "    <tr style=\"text-align: right;\">\n",
       "      <th></th>\n",
       "      <th>importance</th>\n",
       "    </tr>\n",
       "    <tr>\n",
       "      <th>feature</th>\n",
       "      <th></th>\n",
       "    </tr>\n",
       "  </thead>\n",
       "  <tbody>\n",
       "    <tr>\n",
       "      <th>heart_rate</th>\n",
       "      <td>0.132144</td>\n",
       "    </tr>\n",
       "    <tr>\n",
       "      <th>t_interval</th>\n",
       "      <td>0.130227</td>\n",
       "    </tr>\n",
       "    <tr>\n",
       "      <th>qrs_duration</th>\n",
       "      <td>0.123426</td>\n",
       "    </tr>\n",
       "    <tr>\n",
       "      <th>age</th>\n",
       "      <td>0.097590</td>\n",
       "    </tr>\n",
       "    <tr>\n",
       "      <th>q-t_interval</th>\n",
       "      <td>0.091447</td>\n",
       "    </tr>\n",
       "    <tr>\n",
       "      <th>r_wave</th>\n",
       "      <td>0.082013</td>\n",
       "    </tr>\n",
       "    <tr>\n",
       "      <th>p_interval</th>\n",
       "      <td>0.078372</td>\n",
       "    </tr>\n",
       "    <tr>\n",
       "      <th>s_wave</th>\n",
       "      <td>0.076253</td>\n",
       "    </tr>\n",
       "    <tr>\n",
       "      <th>qrs</th>\n",
       "      <td>0.069276</td>\n",
       "    </tr>\n",
       "    <tr>\n",
       "      <th>p-r_interval</th>\n",
       "      <td>0.067892</td>\n",
       "    </tr>\n",
       "    <tr>\n",
       "      <th>q_wave</th>\n",
       "      <td>0.051359</td>\n",
       "    </tr>\n",
       "  </tbody>\n",
       "</table>\n",
       "</div>"
      ],
      "text/plain": [
       "              importance\n",
       "feature                 \n",
       "heart_rate      0.132144\n",
       "t_interval      0.130227\n",
       "qrs_duration    0.123426\n",
       "age             0.097590\n",
       "q-t_interval    0.091447\n",
       "r_wave          0.082013\n",
       "p_interval      0.078372\n",
       "s_wave          0.076253\n",
       "qrs             0.069276\n",
       "p-r_interval    0.067892\n",
       "q_wave          0.051359"
      ]
     },
     "execution_count": 22,
     "metadata": {},
     "output_type": "execute_result"
    }
   ],
   "source": [
    "from sklearn.ensemble import ExtraTreesClassifier  \n",
    "\n",
    "ExtraTreesClassifierModel = ExtraTreesClassifier(n_estimators=10, max_depth=None,min_samples_split=2, random_state=0)\n",
    "ExtraTreesClassifierModel.fit(X_train, y_train)\n",
    "y_predict = ExtraTreesClassifierModel.predict(X_test)\n",
    "importances = pd.DataFrame({'feature' : X_train.columns, 'importance':ExtraTreesClassifierModel.feature_importances_})\n",
    "importances = importances.sort_values('importance', ascending = False).set_index('feature')\n",
    "importances.head(11)"
   ]
  },
  {
   "cell_type": "code",
   "execution_count": 23,
   "metadata": {},
   "outputs": [
    {
     "data": {
      "text/plain": [
       "0.6888888888888889"
      ]
     },
     "execution_count": 23,
     "metadata": {},
     "output_type": "execute_result"
    }
   ],
   "source": [
    " accuracy_score(y_test, y_predict)"
   ]
  },
  {
   "cell_type": "markdown",
   "metadata": {},
   "source": [
    "Notese la buena aproximación de este método realizando 1 solo intento. Se realizaron pruebas sobre los parametros del modelo para obtener el mejor accuracy. Se observó que el accuracy no mejoró con ninguún parametro a excepción de el numero de estimadores, el cual mostró el mejor accuracy de la investigación en 71%, utilizando 70 estimadores"
   ]
  },
  {
   "cell_type": "code",
   "execution_count": 24,
   "metadata": {},
   "outputs": [
    {
     "data": {
      "text/plain": [
       "0.7111111111111111"
      ]
     },
     "execution_count": 24,
     "metadata": {},
     "output_type": "execute_result"
    }
   ],
   "source": [
    "from sklearn.ensemble import ExtraTreesClassifier  \n",
    "\n",
    "ExtraTreesClassifierModel = ExtraTreesClassifier(n_estimators=70, max_depth=None,min_samples_split=2, random_state=0)\n",
    "ExtraTreesClassifierModel.fit(X_train, y_train)\n",
    "y_predict = ExtraTreesClassifierModel.predict(X_test)\n",
    "accuracy_score(y_test, y_predict)"
   ]
  },
  {
   "cell_type": "markdown",
   "metadata": {},
   "source": [
    "## Bagging meta-estimator\n",
    "\n",
    "Finalmente con el objetivo de explorar un último modelo, se implementa el Bagging meta-estimator. Este método utiliza otros classificadores como base en subconjuntos aleatorios del dataset original y luego genera un agreagado apartir de sus propias predicciones. Se suele utilizar este méotodo para reducir la variacion de un estimador de caja negra. \n"
   ]
  },
  {
   "cell_type": "code",
   "execution_count": 28,
   "metadata": {},
   "outputs": [
    {
     "data": {
      "text/plain": [
       "0.7333333333333333"
      ]
     },
     "execution_count": 28,
     "metadata": {},
     "output_type": "execute_result"
    }
   ],
   "source": [
    "from sklearn.ensemble import BaggingClassifier\n",
    "\n",
    "bagging = BaggingClassifier(ExtraTreesClassifierModel, max_samples=0.9, max_features=0.9)\n",
    "bagging.fit(X_train, y_train)\n",
    "y_predict = bagging.predict(X_test)\n",
    "accuracy_score(y_test, y_predict)\n"
   ]
  },
  {
   "cell_type": "markdown",
   "metadata": {},
   "source": [
    "Notese que el modelo se podía alimentar de otro clasificador, en este caso lo alimentamos del método anterior que generaba la mejor precisión, al implementar esta estrategia se logró mejorar ligeramente el accuracy a 73% "
   ]
  },
  {
   "cell_type": "markdown",
   "metadata": {},
   "source": [
    "# Conclusiones "
   ]
  },
  {
   "cell_type": "markdown",
   "metadata": {},
   "source": [
    "- Se obtuvo resultados satisfactorios para un set de datos con una complejidad relativamente alta en comparación del ejericio utilizado en clase. Donde se logró obtener un máximo de 73%\n",
    "- Lo métodos de ensamble fueron los que mostraron la mejor precision en los modelos obtenidos, principalmente porque estos utilizan varios modelos para mejorar sus resultados\n",
    "- La naturaleza del conjunto de datos (muchos posibles valores para el eje y, muy pocos datos para un label relativamente complejo), fue una de las razones por las cuales la presición fue baja en comparación de estudios como los vistos en clases, sin embargo los resultados fueron satisfactorios en comparación a los resultados obtenidos de este paper  http://www.cs.bilkent.edu.tr/tech-reports/1998/BU-CEIS-9802.pdf\n",
    "- Es posible que realizando un estudio en unicamente los 2 tipos de arritmias más frecuentemente encontradas, el accuracy aumente significativamente\n",
    "\n",
    "La siguiente tabla sumariza los resultados obtenidos para los diferentes métodos\n",
    "\n",
    "<table> \n",
    "  <tr>\n",
    "    <th>Método </th>\n",
    "    <th>Accuracy (%)</th>\n",
    "  </tr>\n",
    "  <tr>\n",
    "    <td>Decision Tree</td>\n",
    "    <td>64.6</td>\n",
    "  </tr>\n",
    "  <tr>\n",
    "    <td>Random Forest</td>\n",
    "    <td>69.91</td>\n",
    "  </tr>\n",
    "  <tr>\n",
    "    <td>KNeighborsClassifier</td>\n",
    "    <td> 61.94</td>\n",
    "  </tr>\n",
    "  <tr>\n",
    "    <td>Naive Bayes</td>\n",
    "    <td>65.56</td>\n",
    "  </tr>\n",
    "  <tr>\n",
    "    <td>Extremely Randomized Trees</td>\n",
    "    <td>71.11</td>\n",
    "  </tr>\n",
    "  <tr>\n",
    "    <td>Bagging meta-estimator</td>\n",
    "    <td>73.33</td>\n",
    "  </tr>\n",
    "</table> \n",
    "\n"
   ]
  },
  {
   "cell_type": "code",
   "execution_count": null,
   "metadata": {},
   "outputs": [],
   "source": []
  }
 ],
 "metadata": {
  "kernelspec": {
   "display_name": "Python 3",
   "language": "python",
   "name": "python3"
  },
  "language_info": {
   "codemirror_mode": {
    "name": "ipython",
    "version": 3
   },
   "file_extension": ".py",
   "mimetype": "text/x-python",
   "name": "python",
   "nbconvert_exporter": "python",
   "pygments_lexer": "ipython3",
   "version": "3.7.3"
  }
 },
 "nbformat": 4,
 "nbformat_minor": 2
}
